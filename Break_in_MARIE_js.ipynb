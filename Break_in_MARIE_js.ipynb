{
  "nbformat": 4,
  "nbformat_minor": 0,
  "metadata": {
    "colab": {
      "provenance": [],
      "authorship_tag": "ABX9TyOiOvazfC3D3YxNuyQ7Adsf",
      "include_colab_link": true
    },
    "kernelspec": {
      "name": "python3",
      "display_name": "Python 3"
    },
    "language_info": {
      "name": "python"
    }
  },
  "cells": [
    {
      "cell_type": "markdown",
      "metadata": {
        "id": "view-in-github",
        "colab_type": "text"
      },
      "source": [
        "<a href=\"https://colab.research.google.com/github/MA20014/-CE305-_week-12-_q-2-_20014_Mir-Ahmad_Ali/blob/main/Break_in_MARIE_js.ipynb\" target=\"_parent\"><img src=\"https://colab.research.google.com/assets/colab-badge.svg\" alt=\"Open In Colab\"/></a>"
      ]
    },
    {
      "cell_type": "code",
      "execution_count": null,
      "metadata": {
        "id": "DPhQEpqpzicd"
      },
      "outputs": [],
      "source": [
        "ORG 100\n",
        "Load X\t/Loads the Value of X\n",
        "Store X\t/Stores the value of X\n",
        "loop, Load X\t/loads the value of X at the beginning of the loop\n",
        "      Subt Five\t/subtract the value of X with 5\n",
        "      Skipcond 000\t/condition to check if the subtracted value of (X-5) is less than 0\n",
        "      Jump ENDLOOP\t/If the condition is met then skip this step, but if not then jump to ENDLOOP\n",
        "      Load X\t/loads the value of X\n",
        "      Subt Three\t/subtract the value of X with 3\n",
        "      Skipcond 400\t/condition to check if the subtracted value of (X-3) is equal to 0\n",
        "      Jump loop1\t/if the condition is met then skip this step, but if not then jump to loop1\n",
        "      Jump ENDLOOP\t/Jump to ENDLOOP\n",
        "\n",
        "loop1,      Load X\t/load the value of X\n",
        "            output\t/print the value of X\n",
        "            Add ONE\t/ADD the value of X with ONE\n",
        "            Store X\t/Store the new value of X\n",
        "            Jump loop\t/Jump back to loop\n",
        "\n",
        "\n",
        "ENDLOOP, HALT\t/Ends the execution of the program\n",
        "\n",
        "\n",
        "X, Dec 0\t/The purpose of this is to declare the variable X\n",
        "Three, Dec 3\t/The purpose of this is to declare the variable Three\n",
        "ONE, DEC 1\t/The purpose of this is to declare the variable ONE\n",
        "Five, DEC 5\t/The purpose of this is to declare the variable FIVE\n",
        "END 100"
      ]
    }
  ]
}